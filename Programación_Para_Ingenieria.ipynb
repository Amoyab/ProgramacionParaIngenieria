{
  "nbformat": 4,
  "nbformat_minor": 0,
  "metadata": {
    "colab": {
      "provenance": [],
      "authorship_tag": "ABX9TyNakj8/7fXzj3U7GOqHiMrA",
      "include_colab_link": true
    },
    "kernelspec": {
      "name": "python3",
      "display_name": "Python 3"
    },
    "language_info": {
      "name": "python"
    }
  },
  "cells": [
    {
      "cell_type": "markdown",
      "metadata": {
        "id": "view-in-github",
        "colab_type": "text"
      },
      "source": [
        "<a href=\"https://colab.research.google.com/github/Amoyab/ProgramacionParaIngenieria/blob/main/Programaci%C3%B3n_Para_Ingenieria.ipynb\" target=\"_parent\"><img src=\"https://colab.research.google.com/assets/colab-badge.svg\" alt=\"Open In Colab\"/></a>"
      ]
    },
    {
      "cell_type": "markdown",
      "source": [
        "# **Taller 00**"
      ],
      "metadata": {
        "id": "89RZ0d5Wmofq"
      }
    },
    {
      "cell_type": "markdown",
      "source": [
        "##Hipervinculo [Github](https://github.com/)"
      ],
      "metadata": {
        "id": "1VJ_i5jhnEAK"
      }
    },
    {
      "cell_type": "code",
      "execution_count": 1,
      "metadata": {
        "colab": {
          "base_uri": "https://localhost:8080/"
        },
        "id": "E0RLJsEykpmK",
        "outputId": "e00a0463-2144-423c-b538-dc0ad6743132"
      },
      "outputs": [
        {
          "output_type": "stream",
          "name": "stdout",
          "text": [
            "Hello\n"
          ]
        }
      ],
      "source": [
        "x=0\n",
        "if x>=0:\n",
        "  print(\"Hello\")"
      ]
    }
  ]
}